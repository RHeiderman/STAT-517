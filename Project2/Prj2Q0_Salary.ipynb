{
 "cells": [
  {
   "cell_type": "markdown",
   "metadata": {},
   "source": [
    "Question 0: Predicting Job Salary\n",
    "First step, import csv and python modules needed for analysis"
   ]
  },
  {
   "cell_type": "code",
   "execution_count": 15,
   "metadata": {},
   "outputs": [
    {
     "data": {
      "text/html": [
       "<div>\n",
       "<style scoped>\n",
       "    .dataframe tbody tr th:only-of-type {\n",
       "        vertical-align: middle;\n",
       "    }\n",
       "\n",
       "    .dataframe tbody tr th {\n",
       "        vertical-align: top;\n",
       "    }\n",
       "\n",
       "    .dataframe thead th {\n",
       "        text-align: right;\n",
       "    }\n",
       "</style>\n",
       "<table border=\"1\" class=\"dataframe\">\n",
       "  <thead>\n",
       "    <tr style=\"text-align: right;\">\n",
       "      <th></th>\n",
       "      <th>Id</th>\n",
       "      <th>Title</th>\n",
       "      <th>FullDescription</th>\n",
       "      <th>LocationRaw</th>\n",
       "      <th>LocationNormalized</th>\n",
       "      <th>ContractType</th>\n",
       "      <th>ContractTime</th>\n",
       "      <th>Company</th>\n",
       "      <th>Category</th>\n",
       "      <th>SalaryRaw</th>\n",
       "      <th>SalaryNormalized</th>\n",
       "      <th>SourceName</th>\n",
       "    </tr>\n",
       "  </thead>\n",
       "  <tbody>\n",
       "    <tr>\n",
       "      <th>0</th>\n",
       "      <td>12612628</td>\n",
       "      <td>Engineering Systems Analyst</td>\n",
       "      <td>Engineering Systems Analyst Dorking Surrey Sal...</td>\n",
       "      <td>Dorking, Surrey, Surrey</td>\n",
       "      <td>Dorking</td>\n",
       "      <td>NaN</td>\n",
       "      <td>permanent</td>\n",
       "      <td>Gregory Martin International</td>\n",
       "      <td>Engineering Jobs</td>\n",
       "      <td>20000 - 30000/annum 20-30K</td>\n",
       "      <td>25000</td>\n",
       "      <td>cv-library.co.uk</td>\n",
       "    </tr>\n",
       "    <tr>\n",
       "      <th>1</th>\n",
       "      <td>12612830</td>\n",
       "      <td>Stress Engineer Glasgow</td>\n",
       "      <td>Stress Engineer Glasgow Salary **** to **** We...</td>\n",
       "      <td>Glasgow, Scotland, Scotland</td>\n",
       "      <td>Glasgow</td>\n",
       "      <td>NaN</td>\n",
       "      <td>permanent</td>\n",
       "      <td>Gregory Martin International</td>\n",
       "      <td>Engineering Jobs</td>\n",
       "      <td>25000 - 35000/annum 25-35K</td>\n",
       "      <td>30000</td>\n",
       "      <td>cv-library.co.uk</td>\n",
       "    </tr>\n",
       "    <tr>\n",
       "      <th>2</th>\n",
       "      <td>12612844</td>\n",
       "      <td>Modelling and simulation analyst</td>\n",
       "      <td>Mathematical Modeller / Simulation Analyst / O...</td>\n",
       "      <td>Hampshire, South East, South East</td>\n",
       "      <td>Hampshire</td>\n",
       "      <td>NaN</td>\n",
       "      <td>permanent</td>\n",
       "      <td>Gregory Martin International</td>\n",
       "      <td>Engineering Jobs</td>\n",
       "      <td>20000 - 40000/annum 20-40K</td>\n",
       "      <td>30000</td>\n",
       "      <td>cv-library.co.uk</td>\n",
       "    </tr>\n",
       "    <tr>\n",
       "      <th>3</th>\n",
       "      <td>12613049</td>\n",
       "      <td>Engineering Systems Analyst / Mathematical Mod...</td>\n",
       "      <td>Engineering Systems Analyst / Mathematical Mod...</td>\n",
       "      <td>Surrey, South East, South East</td>\n",
       "      <td>Surrey</td>\n",
       "      <td>NaN</td>\n",
       "      <td>permanent</td>\n",
       "      <td>Gregory Martin International</td>\n",
       "      <td>Engineering Jobs</td>\n",
       "      <td>25000 - 30000/annum 25K-30K negotiable</td>\n",
       "      <td>27500</td>\n",
       "      <td>cv-library.co.uk</td>\n",
       "    </tr>\n",
       "    <tr>\n",
       "      <th>4</th>\n",
       "      <td>12613647</td>\n",
       "      <td>Pioneer, Miser Engineering Systems Analyst</td>\n",
       "      <td>Pioneer, Miser  Engineering Systems Analyst Do...</td>\n",
       "      <td>Surrey, South East, South East</td>\n",
       "      <td>Surrey</td>\n",
       "      <td>NaN</td>\n",
       "      <td>permanent</td>\n",
       "      <td>Gregory Martin International</td>\n",
       "      <td>Engineering Jobs</td>\n",
       "      <td>20000 - 30000/annum 20-30K</td>\n",
       "      <td>25000</td>\n",
       "      <td>cv-library.co.uk</td>\n",
       "    </tr>\n",
       "  </tbody>\n",
       "</table>\n",
       "</div>"
      ],
      "text/plain": [
       "         Id                                              Title  \\\n",
       "0  12612628                        Engineering Systems Analyst   \n",
       "1  12612830                            Stress Engineer Glasgow   \n",
       "2  12612844                   Modelling and simulation analyst   \n",
       "3  12613049  Engineering Systems Analyst / Mathematical Mod...   \n",
       "4  12613647         Pioneer, Miser Engineering Systems Analyst   \n",
       "\n",
       "                                     FullDescription  \\\n",
       "0  Engineering Systems Analyst Dorking Surrey Sal...   \n",
       "1  Stress Engineer Glasgow Salary **** to **** We...   \n",
       "2  Mathematical Modeller / Simulation Analyst / O...   \n",
       "3  Engineering Systems Analyst / Mathematical Mod...   \n",
       "4  Pioneer, Miser  Engineering Systems Analyst Do...   \n",
       "\n",
       "                         LocationRaw LocationNormalized ContractType  \\\n",
       "0            Dorking, Surrey, Surrey            Dorking          NaN   \n",
       "1        Glasgow, Scotland, Scotland            Glasgow          NaN   \n",
       "2  Hampshire, South East, South East          Hampshire          NaN   \n",
       "3     Surrey, South East, South East             Surrey          NaN   \n",
       "4     Surrey, South East, South East             Surrey          NaN   \n",
       "\n",
       "  ContractTime                       Company          Category  \\\n",
       "0    permanent  Gregory Martin International  Engineering Jobs   \n",
       "1    permanent  Gregory Martin International  Engineering Jobs   \n",
       "2    permanent  Gregory Martin International  Engineering Jobs   \n",
       "3    permanent  Gregory Martin International  Engineering Jobs   \n",
       "4    permanent  Gregory Martin International  Engineering Jobs   \n",
       "\n",
       "                                SalaryRaw  SalaryNormalized        SourceName  \n",
       "0              20000 - 30000/annum 20-30K             25000  cv-library.co.uk  \n",
       "1              25000 - 35000/annum 25-35K             30000  cv-library.co.uk  \n",
       "2              20000 - 40000/annum 20-40K             30000  cv-library.co.uk  \n",
       "3  25000 - 30000/annum 25K-30K negotiable             27500  cv-library.co.uk  \n",
       "4              20000 - 30000/annum 20-30K             25000  cv-library.co.uk  "
      ]
     },
     "execution_count": 15,
     "metadata": {},
     "output_type": "execute_result"
    }
   ],
   "source": [
    "import pandas as pd\n",
    "import numpy as np\n",
    "import matplotlib.pyplot as plt\n",
    "plt.style.use('classic')\n",
    "%matplotlib inline\n",
    "from sklearn import preprocessing\n",
    "from sklearn.model_selection import train_test_split\n",
    "import sklearn.metrics as metrics\n",
    "\n",
    "salary = pd.read_csv(\"http://www.webpages.uidaho.edu/~stevel/Datasets/salary_uk.csv\")\n",
    "salary.head()"
   ]
  },
  {
   "cell_type": "markdown",
   "metadata": {},
   "source": [
    "Lets view the job categories and associated salary distribution via a seaborn boxplot."
   ]
  },
  {
   "cell_type": "code",
   "execution_count": 3,
   "metadata": {},
   "outputs": [
    {
     "data": {
      "image/png": "[encoded data removed]",
      "text/plain": [
       "<Figure size 432x288 with 1 Axes>"
      ]
     },
     "metadata": {},
     "output_type": "display_data"
    }
   ],
   "source": [
    "import seaborn as sns\n",
    "sns.set()\n",
    "s=sns.boxplot(x=\"Category\", y=\"SalaryNormalized\",data=salary, linewidth=1)\n",
    "s.set_xticklabels(s.get_xticklabels(),rotation=\"vertical\");"
   ]
  },
  {
   "cell_type": "markdown",
   "metadata": {},
   "source": [
    "From the boxplot, there is variability in salary throughout all categories. Some have more narrow salary distrubution than others. Accounting and Healthcare have a few outliers with very high salary compared to the average. There may be some trends, but more information will be needed to predict salary.\n",
    "\n",
    "Let's see the data columns and there types."
   ]
  },
  {
   "cell_type": "code",
   "execution_count": 5,
   "metadata": {},
   "outputs": [
    {
     "name": "stdout",
     "output_type": "stream",
     "text": [
      "<class 'pandas.core.frame.DataFrame'>\n",
      "RangeIndex: 10000 entries, 0 to 9999\n",
      "Data columns (total 12 columns):\n",
      "Id                    10000 non-null int64\n",
      "Title                 9999 non-null object\n",
      "FullDescription       10000 non-null object\n",
      "LocationRaw           10000 non-null object\n",
      "LocationNormalized    10000 non-null object\n",
      "ContractType          3556 non-null object\n",
      "ContractTime          4737 non-null object\n",
      "Company               5951 non-null object\n",
      "Category              10000 non-null object\n",
      "SalaryRaw             10000 non-null object\n",
      "SalaryNormalized      10000 non-null int64\n",
      "SourceName            10000 non-null object\n",
      "dtypes: int64(2), object(10)\n",
      "memory usage: 937.6+ KB\n"
     ]
    }
   ],
   "source": [
    "salary.info()"
   ]
  },
  {
   "cell_type": "markdown",
   "metadata": {},
   "source": [
    "Just to get an overall sense of where the salary figures are, I will make a histogram of just salary."
   ]
  },
  {
   "cell_type": "code",
   "execution_count": 6,
   "metadata": {},
   "outputs": [
    {
     "data": {
      "text/plain": [
       "(array([  8.,  12.,   9.,  66., 300., 446., 520., 592., 489., 376., 649.,\n",
       "        838., 451., 656., 598., 286., 366., 462., 182., 296., 353., 121.,\n",
       "        245., 282.,  51., 136., 195.,  32.,  93., 138.,  26.,  46., 120.,\n",
       "          7.,  48.,  59.,  21.,  21.,  47.,  22.,  15.,  54.,  11.,  22.,\n",
       "         32.,  12.,  56.,  44.,   7.,   5.,  22.,   0.,   3.,   6.,  10.,\n",
       "          4.,  20.,   0.,   0.,   0.,   0.,   1.,   0.,   0.,   0.,   0.,\n",
       "          0.,   0.,   0.,   0.,   0.,   0.,   0.,   0.,   0.,   0.,   0.,\n",
       "          2.,   0.,   0.,   0.,   0.,   2.,   0.,   0.,   0.,   1.,   0.,\n",
       "          0.,   0.,   0.,   0.,   0.,   0.,   0.,   0.,   0.,   0.,   0.,\n",
       "          6.]),\n",
       " array([  5184.  ,   6860.16,   8536.32,  10212.48,  11888.64,  13564.8 ,\n",
       "         15240.96,  16917.12,  18593.28,  20269.44,  21945.6 ,  23621.76,\n",
       "         25297.92,  26974.08,  28650.24,  30326.4 ,  32002.56,  33678.72,\n",
       "         35354.88,  37031.04,  38707.2 ,  40383.36,  42059.52,  43735.68,\n",
       "         45411.84,  47088.  ,  48764.16,  50440.32,  52116.48,  53792.64,\n",
       "         55468.8 ,  57144.96,  58821.12,  60497.28,  62173.44,  63849.6 ,\n",
       "         65525.76,  67201.92,  68878.08,  70554.24,  72230.4 ,  73906.56,\n",
       "         75582.72,  77258.88,  78935.04,  80611.2 ,  82287.36,  83963.52,\n",
       "         85639.68,  87315.84,  88992.  ,  90668.16,  92344.32,  94020.48,\n",
       "         95696.64,  97372.8 ,  99048.96, 100725.12, 102401.28, 104077.44,\n",
       "        105753.6 , 107429.76, 109105.92, 110782.08, 112458.24, 114134.4 ,\n",
       "        115810.56, 117486.72, 119162.88, 120839.04, 122515.2 , 124191.36,\n",
       "        125867.52, 127543.68, 129219.84, 130896.  , 132572.16, 134248.32,\n",
       "        135924.48, 137600.64, 139276.8 , 140952.96, 142629.12, 144305.28,\n",
       "        145981.44, 147657.6 , 149333.76, 151009.92, 152686.08, 154362.24,\n",
       "        156038.4 , 157714.56, 159390.72, 161066.88, 162743.04, 164419.2 ,\n",
       "        166095.36, 167771.52, 169447.68, 171123.84, 172800.  ]),\n",
       " <a list of 100 Patch objects>)"
      ]
     },
     "execution_count": 6,
     "metadata": {},
     "output_type": "execute_result"
    },
    {
     "data": {
      "image/png": "[encoded data removed]",
      "text/plain": [
       "<Figure size 432x288 with 1 Axes>"
      ]
     },
     "metadata": {},
     "output_type": "display_data"
    }
   ],
   "source": [
    "plt.hist(salary.SalaryNormalized, bins=100)"
   ]
  },
  {
   "cell_type": "markdown",
   "metadata": {},
   "source": [
    "Looks like most salary values are bettwen 20k and 40k, with a longer trail of fewer instances toward the higher salaries"
   ]
  },
  {
   "cell_type": "code",
   "execution_count": 72,
   "metadata": {},
   "outputs": [
    {
     "data": {
      "text/plain": [
       "Id                       int64\n",
       "Title                 category\n",
       "FullDescription         object\n",
       "LocationRaw             object\n",
       "LocationNormalized    category\n",
       "ContractType          category\n",
       "ContractTime          category\n",
       "Company               category\n",
       "Category              category\n",
       "SalaryRaw               object\n",
       "SalaryNormalized         int64\n",
       "SourceName            category\n",
       "titleID                  int64\n",
       "LocationID               int64\n",
       "ConTypeID                int64\n",
       "ConTimeID                int64\n",
       "CompanyID                int64\n",
       "CatID                    int64\n",
       "SourceID                 int64\n",
       "engineer                  bool\n",
       "manager                   bool\n",
       "analyst                   bool\n",
       "dtype: object"
      ]
     },
     "execution_count": 72,
     "metadata": {},
     "output_type": "execute_result"
    }
   ],
   "source": [
    "salary.dtypes"
   ]
  },
  {
   "cell_type": "markdown",
   "metadata": {},
   "source": [
    "We have a mix of many different types of variables, and some that will not benefit our analysis.\n",
    "\n",
    "We will first vectorize the long text discription of each job announcement using the feature extraction feature to find the term frequency-inverse document frequency of each word in the description.  The more unique a word is from the overall list the higher the value.  We will only use the top 10,000 words and will remove common stop words"
   ]
  },
  {
   "cell_type": "code",
   "execution_count": 3,
   "metadata": {},
   "outputs": [],
   "source": [
    "from sklearn.feature_extraction.text import CountVectorizer, TfidfVectorizer\n",
    "vect = TfidfVectorizer(stop_words='english', max_features=10000)\n",
    "x=vect.fit_transform(salary.FullDescription)"
   ]
  },
  {
   "cell_type": "code",
   "execution_count": 4,
   "metadata": {},
   "outputs": [
    {
     "data": {
      "text/plain": [
       "(10000, 10000)"
      ]
     },
     "execution_count": 4,
     "metadata": {},
     "output_type": "execute_result"
    }
   ],
   "source": [
    "x.shape"
   ]
  },
  {
   "cell_type": "markdown",
   "metadata": {},
   "source": [
    "Let's view the stop words that have been removed.  They are fairly common and probably wont help in our analysis as they are not unique identifiers."
   ]
  },
  {
   "cell_type": "code",
   "execution_count": 5,
   "metadata": {},
   "outputs": [
    {
     "name": "stdout",
     "output_type": "stream",
     "text": [
      "frozenset(['all', 'six', 'less', 'being', 'indeed', 'over', 'move', 'anyway', 'fifty', 'four', 'not', 'own', 'through', 'yourselves', 'go', 'where', 'mill', 'only', 'find', 'before', 'one', 'whose', 'system', 'how', 'somewhere', 'with', 'thick', 'show', 'had', 'enough', 'should', 'to', 'must', 'whom', 'seeming', 'under', 'ours', 'has', 'might', 'thereafter', 'latterly', 'do', 'them', 'his', 'around', 'than', 'get', 'very', 'de', 'none', 'cannot', 'every', 'whether', 'they', 'front', 'during', 'thus', 'now', 'him', 'nor', 'name', 'several', 'hereafter', 'always', 'who', 'cry', 'whither', 'this', 'someone', 'either', 'each', 'become', 'thereupon', 'sometime', 'side', 'two', 'therein', 'twelve', 'because', 'often', 'ten', 'our', 'eg', 'some', 'back', 'up', 'namely', 'towards', 'are', 'further', 'beyond', 'ourselves', 'yet', 'out', 'even', 'will', 'what', 'still', 'for', 'bottom', 'mine', 'since', 'please', 'forty', 'per', 'its', 'everything', 'behind', 'un', 'above', 'between', 'it', 'neither', 'seemed', 'ever', 'across', 'she', 'somehow', 'be', 'we', 'full', 'never', 'sixty', 'however', 'here', 'otherwise', 'were', 'whereupon', 'nowhere', 'although', 'found', 'alone', 're', 'along', 'fifteen', 'by', 'both', 'about', 'last', 'would', 'anything', 'via', 'many', 'could', 'thence', 'put', 'against', 'keep', 'etc', 'amount', 'became', 'ltd', 'hence', 'onto', 'or', 'con', 'among', 'already', 'co', 'afterwards', 'formerly', 'within', 'seems', 'into', 'others', 'while', 'whatever', 'except', 'down', 'hers', 'everyone', 'done', 'least', 'another', 'whoever', 'moreover', 'couldnt', 'throughout', 'anyhow', 'yourself', 'three', 'from', 'her', 'few', 'together', 'top', 'there', 'due', 'been', 'next', 'anyone', 'eleven', 'much', 'call', 'therefore', 'interest', 'then', 'thru', 'themselves', 'hundred', 'was', 'sincere', 'empty', 'more', 'himself', 'elsewhere', 'mostly', 'on', 'fire', 'am', 'becoming', 'hereby', 'amongst', 'else', 'part', 'everywhere', 'too', 'herself', 'former', 'those', 'he', 'me', 'myself', 'made', 'twenty', 'these', 'bill', 'cant', 'us', 'until', 'besides', 'nevertheless', 'below', 'anywhere', 'nine', 'can', 'of', 'toward', 'my', 'something', 'and', 'whereafter', 'whenever', 'give', 'almost', 'wherever', 'is', 'describe', 'beforehand', 'herein', 'an', 'as', 'itself', 'at', 'have', 'in', 'seem', 'whence', 'ie', 'any', 'fill', 'again', 'hasnt', 'inc', 'thereby', 'thin', 'no', 'perhaps', 'latter', 'meanwhile', 'when', 'detail', 'same', 'wherein', 'beside', 'also', 'that', 'other', 'take', 'which', 'becomes', 'you', 'if', 'nobody', 'see', 'though', 'may', 'after', 'upon', 'most', 'hereupon', 'eight', 'but', 'serious', 'nothing', 'such', 'your', 'why', 'a', 'off', 'whereby', 'third', 'i', 'whole', 'noone', 'sometimes', 'well', 'amoungst', 'yours', 'their', 'rather', 'without', 'so', 'five', 'the', 'first', 'whereas', 'once'])\n"
     ]
    }
   ],
   "source": [
    "print vect.get_stop_words()"
   ]
  },
  {
   "cell_type": "markdown",
   "metadata": {},
   "source": [
    "Using pandas, I will create a new dataframe of the vectorized words from the FullDescription columns of the job announcements"
   ]
  },
  {
   "cell_type": "code",
   "execution_count": 6,
   "metadata": {},
   "outputs": [
    {
     "data": {
      "text/html": [
       "<div>\n",
       "<style scoped>\n",
       "    .dataframe tbody tr th:only-of-type {\n",
       "        vertical-align: middle;\n",
       "    }\n",
       "\n",
       "    .dataframe tbody tr th {\n",
       "        vertical-align: top;\n",
       "    }\n",
       "\n",
       "    .dataframe thead th {\n",
       "        text-align: right;\n",
       "    }\n",
       "</style>\n",
       "<table border=\"1\" class=\"dataframe\">\n",
       "  <thead>\n",
       "    <tr style=\"text-align: right;\">\n",
       "      <th></th>\n",
       "      <th>00</th>\n",
       "      <th>000</th>\n",
       "      <th>00am</th>\n",
       "      <th>00pm</th>\n",
       "      <th>01</th>\n",
       "      <th>010</th>\n",
       "      <th>011</th>\n",
       "      <th>013</th>\n",
       "      <th>05</th>\n",
       "      <th>08</th>\n",
       "      <th>...</th>\n",
       "      <th>youtube</th>\n",
       "      <th>youview</th>\n",
       "      <th>yr</th>\n",
       "      <th>yrs</th>\n",
       "      <th>zahid</th>\n",
       "      <th>zealand</th>\n",
       "      <th>zend</th>\n",
       "      <th>zero</th>\n",
       "      <th>zone</th>\n",
       "      <th>zuken</th>\n",
       "    </tr>\n",
       "  </thead>\n",
       "  <tbody>\n",
       "    <tr>\n",
       "      <th>0</th>\n",
       "      <td>0.0</td>\n",
       "      <td>0.0</td>\n",
       "      <td>0.0</td>\n",
       "      <td>0.0</td>\n",
       "      <td>0.0</td>\n",
       "      <td>0.0</td>\n",
       "      <td>0.0</td>\n",
       "      <td>0.0</td>\n",
       "      <td>0.0</td>\n",
       "      <td>0.0</td>\n",
       "      <td>...</td>\n",
       "      <td>0.0</td>\n",
       "      <td>0.0</td>\n",
       "      <td>0.0</td>\n",
       "      <td>0.0</td>\n",
       "      <td>0.0</td>\n",
       "      <td>0.0</td>\n",
       "      <td>0.0</td>\n",
       "      <td>0.0</td>\n",
       "      <td>0.0</td>\n",
       "      <td>0.0</td>\n",
       "    </tr>\n",
       "    <tr>\n",
       "      <th>1</th>\n",
       "      <td>0.0</td>\n",
       "      <td>0.0</td>\n",
       "      <td>0.0</td>\n",
       "      <td>0.0</td>\n",
       "      <td>0.0</td>\n",
       "      <td>0.0</td>\n",
       "      <td>0.0</td>\n",
       "      <td>0.0</td>\n",
       "      <td>0.0</td>\n",
       "      <td>0.0</td>\n",
       "      <td>...</td>\n",
       "      <td>0.0</td>\n",
       "      <td>0.0</td>\n",
       "      <td>0.0</td>\n",
       "      <td>0.0</td>\n",
       "      <td>0.0</td>\n",
       "      <td>0.0</td>\n",
       "      <td>0.0</td>\n",
       "      <td>0.0</td>\n",
       "      <td>0.0</td>\n",
       "      <td>0.0</td>\n",
       "    </tr>\n",
       "    <tr>\n",
       "      <th>2</th>\n",
       "      <td>0.0</td>\n",
       "      <td>0.0</td>\n",
       "      <td>0.0</td>\n",
       "      <td>0.0</td>\n",
       "      <td>0.0</td>\n",
       "      <td>0.0</td>\n",
       "      <td>0.0</td>\n",
       "      <td>0.0</td>\n",
       "      <td>0.0</td>\n",
       "      <td>0.0</td>\n",
       "      <td>...</td>\n",
       "      <td>0.0</td>\n",
       "      <td>0.0</td>\n",
       "      <td>0.0</td>\n",
       "      <td>0.0</td>\n",
       "      <td>0.0</td>\n",
       "      <td>0.0</td>\n",
       "      <td>0.0</td>\n",
       "      <td>0.0</td>\n",
       "      <td>0.0</td>\n",
       "      <td>0.0</td>\n",
       "    </tr>\n",
       "    <tr>\n",
       "      <th>3</th>\n",
       "      <td>0.0</td>\n",
       "      <td>0.0</td>\n",
       "      <td>0.0</td>\n",
       "      <td>0.0</td>\n",
       "      <td>0.0</td>\n",
       "      <td>0.0</td>\n",
       "      <td>0.0</td>\n",
       "      <td>0.0</td>\n",
       "      <td>0.0</td>\n",
       "      <td>0.0</td>\n",
       "      <td>...</td>\n",
       "      <td>0.0</td>\n",
       "      <td>0.0</td>\n",
       "      <td>0.0</td>\n",
       "      <td>0.0</td>\n",
       "      <td>0.0</td>\n",
       "      <td>0.0</td>\n",
       "      <td>0.0</td>\n",
       "      <td>0.0</td>\n",
       "      <td>0.0</td>\n",
       "      <td>0.0</td>\n",
       "    </tr>\n",
       "    <tr>\n",
       "      <th>4</th>\n",
       "      <td>0.0</td>\n",
       "      <td>0.0</td>\n",
       "      <td>0.0</td>\n",
       "      <td>0.0</td>\n",
       "      <td>0.0</td>\n",
       "      <td>0.0</td>\n",
       "      <td>0.0</td>\n",
       "      <td>0.0</td>\n",
       "      <td>0.0</td>\n",
       "      <td>0.0</td>\n",
       "      <td>...</td>\n",
       "      <td>0.0</td>\n",
       "      <td>0.0</td>\n",
       "      <td>0.0</td>\n",
       "      <td>0.0</td>\n",
       "      <td>0.0</td>\n",
       "      <td>0.0</td>\n",
       "      <td>0.0</td>\n",
       "      <td>0.0</td>\n",
       "      <td>0.0</td>\n",
       "      <td>0.0</td>\n",
       "    </tr>\n",
       "  </tbody>\n",
       "</table>\n",
       "<p>5 rows × 10000 columns</p>\n",
       "</div>"
      ],
      "text/plain": [
       "    00  000  00am  00pm   01  010  011  013   05   08  ...    youtube  \\\n",
       "0  0.0  0.0   0.0   0.0  0.0  0.0  0.0  0.0  0.0  0.0  ...        0.0   \n",
       "1  0.0  0.0   0.0   0.0  0.0  0.0  0.0  0.0  0.0  0.0  ...        0.0   \n",
       "2  0.0  0.0   0.0   0.0  0.0  0.0  0.0  0.0  0.0  0.0  ...        0.0   \n",
       "3  0.0  0.0   0.0   0.0  0.0  0.0  0.0  0.0  0.0  0.0  ...        0.0   \n",
       "4  0.0  0.0   0.0   0.0  0.0  0.0  0.0  0.0  0.0  0.0  ...        0.0   \n",
       "\n",
       "   youview   yr  yrs  zahid  zealand  zend  zero  zone  zuken  \n",
       "0      0.0  0.0  0.0    0.0      0.0   0.0   0.0   0.0    0.0  \n",
       "1      0.0  0.0  0.0    0.0      0.0   0.0   0.0   0.0    0.0  \n",
       "2      0.0  0.0  0.0    0.0      0.0   0.0   0.0   0.0    0.0  \n",
       "3      0.0  0.0  0.0    0.0      0.0   0.0   0.0   0.0    0.0  \n",
       "4      0.0  0.0  0.0    0.0      0.0   0.0   0.0   0.0    0.0  \n",
       "\n",
       "[5 rows x 10000 columns]"
      ]
     },
     "execution_count": 6,
     "metadata": {},
     "output_type": "execute_result"
    }
   ],
   "source": [
    "fulldesc=pd.DataFrame(x.toarray(), columns=vect.get_feature_names())\n",
    "fulldesc.head()"
   ]
  },
  {
   "cell_type": "markdown",
   "metadata": {},
   "source": [
    "Next, I will remove the unnecessary columns and the 'raw' variables"
   ]
  },
  {
   "cell_type": "code",
   "execution_count": 16,
   "metadata": {},
   "outputs": [
    {
     "data": {
      "text/html": [
       "<div>\n",
       "<style scoped>\n",
       "    .dataframe tbody tr th:only-of-type {\n",
       "        vertical-align: middle;\n",
       "    }\n",
       "\n",
       "    .dataframe tbody tr th {\n",
       "        vertical-align: top;\n",
       "    }\n",
       "\n",
       "    .dataframe thead th {\n",
       "        text-align: right;\n",
       "    }\n",
       "</style>\n",
       "<table border=\"1\" class=\"dataframe\">\n",
       "  <thead>\n",
       "    <tr style=\"text-align: right;\">\n",
       "      <th></th>\n",
       "      <th>Title</th>\n",
       "      <th>LocationNormalized</th>\n",
       "      <th>ContractType</th>\n",
       "      <th>ContractTime</th>\n",
       "      <th>Company</th>\n",
       "      <th>Category</th>\n",
       "      <th>SalaryNormalized</th>\n",
       "      <th>SourceName</th>\n",
       "    </tr>\n",
       "  </thead>\n",
       "  <tbody>\n",
       "    <tr>\n",
       "      <th>0</th>\n",
       "      <td>Engineering Systems Analyst</td>\n",
       "      <td>Dorking</td>\n",
       "      <td>NaN</td>\n",
       "      <td>permanent</td>\n",
       "      <td>Gregory Martin International</td>\n",
       "      <td>Engineering Jobs</td>\n",
       "      <td>25000</td>\n",
       "      <td>cv-library.co.uk</td>\n",
       "    </tr>\n",
       "    <tr>\n",
       "      <th>1</th>\n",
       "      <td>Stress Engineer Glasgow</td>\n",
       "      <td>Glasgow</td>\n",
       "      <td>NaN</td>\n",
       "      <td>permanent</td>\n",
       "      <td>Gregory Martin International</td>\n",
       "      <td>Engineering Jobs</td>\n",
       "      <td>30000</td>\n",
       "      <td>cv-library.co.uk</td>\n",
       "    </tr>\n",
       "    <tr>\n",
       "      <th>2</th>\n",
       "      <td>Modelling and simulation analyst</td>\n",
       "      <td>Hampshire</td>\n",
       "      <td>NaN</td>\n",
       "      <td>permanent</td>\n",
       "      <td>Gregory Martin International</td>\n",
       "      <td>Engineering Jobs</td>\n",
       "      <td>30000</td>\n",
       "      <td>cv-library.co.uk</td>\n",
       "    </tr>\n",
       "    <tr>\n",
       "      <th>3</th>\n",
       "      <td>Engineering Systems Analyst / Mathematical Mod...</td>\n",
       "      <td>Surrey</td>\n",
       "      <td>NaN</td>\n",
       "      <td>permanent</td>\n",
       "      <td>Gregory Martin International</td>\n",
       "      <td>Engineering Jobs</td>\n",
       "      <td>27500</td>\n",
       "      <td>cv-library.co.uk</td>\n",
       "    </tr>\n",
       "    <tr>\n",
       "      <th>4</th>\n",
       "      <td>Pioneer, Miser Engineering Systems Analyst</td>\n",
       "      <td>Surrey</td>\n",
       "      <td>NaN</td>\n",
       "      <td>permanent</td>\n",
       "      <td>Gregory Martin International</td>\n",
       "      <td>Engineering Jobs</td>\n",
       "      <td>25000</td>\n",
       "      <td>cv-library.co.uk</td>\n",
       "    </tr>\n",
       "  </tbody>\n",
       "</table>\n",
       "</div>"
      ],
      "text/plain": [
       "                                               Title LocationNormalized  \\\n",
       "0                        Engineering Systems Analyst            Dorking   \n",
       "1                            Stress Engineer Glasgow            Glasgow   \n",
       "2                   Modelling and simulation analyst          Hampshire   \n",
       "3  Engineering Systems Analyst / Mathematical Mod...             Surrey   \n",
       "4         Pioneer, Miser Engineering Systems Analyst             Surrey   \n",
       "\n",
       "  ContractType ContractTime                       Company          Category  \\\n",
       "0          NaN    permanent  Gregory Martin International  Engineering Jobs   \n",
       "1          NaN    permanent  Gregory Martin International  Engineering Jobs   \n",
       "2          NaN    permanent  Gregory Martin International  Engineering Jobs   \n",
       "3          NaN    permanent  Gregory Martin International  Engineering Jobs   \n",
       "4          NaN    permanent  Gregory Martin International  Engineering Jobs   \n",
       "\n",
       "   SalaryNormalized        SourceName  \n",
       "0             25000  cv-library.co.uk  \n",
       "1             30000  cv-library.co.uk  \n",
       "2             30000  cv-library.co.uk  \n",
       "3             27500  cv-library.co.uk  \n",
       "4             25000  cv-library.co.uk  "
      ]
     },
     "execution_count": 16,
     "metadata": {},
     "output_type": "execute_result"
    }
   ],
   "source": [
    "salaryd=salary.drop(columns=['Id','FullDescription','SalaryRaw','LocationRaw'])\n",
    "salaryd.head(5)"
   ]
  },
  {
   "cell_type": "markdown",
   "metadata": {},
   "source": [
    "Knowing there are categorical variables, I will use the one hot encoding feature to create dummy variables where each category is given a column and each row will either be a 1 or a 0 if it contains that attribute"
   ]
  },
  {
   "cell_type": "code",
   "execution_count": 17,
   "metadata": {},
   "outputs": [
    {
     "data": {
      "text/html": [
       "<div>\n",
       "<style scoped>\n",
       "    .dataframe tbody tr th:only-of-type {\n",
       "        vertical-align: middle;\n",
       "    }\n",
       "\n",
       "    .dataframe tbody tr th {\n",
       "        vertical-align: top;\n",
       "    }\n",
       "\n",
       "    .dataframe thead th {\n",
       "        text-align: right;\n",
       "    }\n",
       "</style>\n",
       "<table border=\"1\" class=\"dataframe\">\n",
       "  <thead>\n",
       "    <tr style=\"text-align: right;\">\n",
       "      <th></th>\n",
       "      <th>Title</th>\n",
       "      <th>ContractType</th>\n",
       "      <th>ContractTime</th>\n",
       "      <th>Company</th>\n",
       "      <th>SalaryNormalized</th>\n",
       "      <th>Loc_Abbots Langley</th>\n",
       "      <th>Loc_Aberdare</th>\n",
       "      <th>Loc_Aberdeen</th>\n",
       "      <th>Loc_Aberdeenshire</th>\n",
       "      <th>Loc_Abertillery</th>\n",
       "      <th>...</th>\n",
       "      <th>Source_technojobs.co.uk</th>\n",
       "      <th>Source_thecareerengineer.com</th>\n",
       "      <th>Source_thegraduate.co.uk</th>\n",
       "      <th>Source_theitjobboard.co.uk</th>\n",
       "      <th>Source_theladders.co.uk</th>\n",
       "      <th>Source_totaljobs.com</th>\n",
       "      <th>Source_uksport.gov.uk</th>\n",
       "      <th>Source_wileyjobnetwork.com</th>\n",
       "      <th>Source_workthing.com</th>\n",
       "      <th>Source_zartis.com</th>\n",
       "    </tr>\n",
       "  </thead>\n",
       "  <tbody>\n",
       "    <tr>\n",
       "      <th>0</th>\n",
       "      <td>Engineering Systems Analyst</td>\n",
       "      <td>NaN</td>\n",
       "      <td>permanent</td>\n",
       "      <td>Gregory Martin International</td>\n",
       "      <td>25000</td>\n",
       "      <td>0</td>\n",
       "      <td>0</td>\n",
       "      <td>0</td>\n",
       "      <td>0</td>\n",
       "      <td>0</td>\n",
       "      <td>...</td>\n",
       "      <td>0</td>\n",
       "      <td>0</td>\n",
       "      <td>0</td>\n",
       "      <td>0</td>\n",
       "      <td>0</td>\n",
       "      <td>0</td>\n",
       "      <td>0</td>\n",
       "      <td>0</td>\n",
       "      <td>0</td>\n",
       "      <td>0</td>\n",
       "    </tr>\n",
       "    <tr>\n",
       "      <th>1</th>\n",
       "      <td>Stress Engineer Glasgow</td>\n",
       "      <td>NaN</td>\n",
       "      <td>permanent</td>\n",
       "      <td>Gregory Martin International</td>\n",
       "      <td>30000</td>\n",
       "      <td>0</td>\n",
       "      <td>0</td>\n",
       "      <td>0</td>\n",
       "      <td>0</td>\n",
       "      <td>0</td>\n",
       "      <td>...</td>\n",
       "      <td>0</td>\n",
       "      <td>0</td>\n",
       "      <td>0</td>\n",
       "      <td>0</td>\n",
       "      <td>0</td>\n",
       "      <td>0</td>\n",
       "      <td>0</td>\n",
       "      <td>0</td>\n",
       "      <td>0</td>\n",
       "      <td>0</td>\n",
       "    </tr>\n",
       "    <tr>\n",
       "      <th>2</th>\n",
       "      <td>Modelling and simulation analyst</td>\n",
       "      <td>NaN</td>\n",
       "      <td>permanent</td>\n",
       "      <td>Gregory Martin International</td>\n",
       "      <td>30000</td>\n",
       "      <td>0</td>\n",
       "      <td>0</td>\n",
       "      <td>0</td>\n",
       "      <td>0</td>\n",
       "      <td>0</td>\n",
       "      <td>...</td>\n",
       "      <td>0</td>\n",
       "      <td>0</td>\n",
       "      <td>0</td>\n",
       "      <td>0</td>\n",
       "      <td>0</td>\n",
       "      <td>0</td>\n",
       "      <td>0</td>\n",
       "      <td>0</td>\n",
       "      <td>0</td>\n",
       "      <td>0</td>\n",
       "    </tr>\n",
       "    <tr>\n",
       "      <th>3</th>\n",
       "      <td>Engineering Systems Analyst / Mathematical Mod...</td>\n",
       "      <td>NaN</td>\n",
       "      <td>permanent</td>\n",
       "      <td>Gregory Martin International</td>\n",
       "      <td>27500</td>\n",
       "      <td>0</td>\n",
       "      <td>0</td>\n",
       "      <td>0</td>\n",
       "      <td>0</td>\n",
       "      <td>0</td>\n",
       "      <td>...</td>\n",
       "      <td>0</td>\n",
       "      <td>0</td>\n",
       "      <td>0</td>\n",
       "      <td>0</td>\n",
       "      <td>0</td>\n",
       "      <td>0</td>\n",
       "      <td>0</td>\n",
       "      <td>0</td>\n",
       "      <td>0</td>\n",
       "      <td>0</td>\n",
       "    </tr>\n",
       "    <tr>\n",
       "      <th>4</th>\n",
       "      <td>Pioneer, Miser Engineering Systems Analyst</td>\n",
       "      <td>NaN</td>\n",
       "      <td>permanent</td>\n",
       "      <td>Gregory Martin International</td>\n",
       "      <td>25000</td>\n",
       "      <td>0</td>\n",
       "      <td>0</td>\n",
       "      <td>0</td>\n",
       "      <td>0</td>\n",
       "      <td>0</td>\n",
       "      <td>...</td>\n",
       "      <td>0</td>\n",
       "      <td>0</td>\n",
       "      <td>0</td>\n",
       "      <td>0</td>\n",
       "      <td>0</td>\n",
       "      <td>0</td>\n",
       "      <td>0</td>\n",
       "      <td>0</td>\n",
       "      <td>0</td>\n",
       "      <td>0</td>\n",
       "    </tr>\n",
       "  </tbody>\n",
       "</table>\n",
       "<p>5 rows × 1006 columns</p>\n",
       "</div>"
      ],
      "text/plain": [
       "                                               Title ContractType  \\\n",
       "0                        Engineering Systems Analyst          NaN   \n",
       "1                            Stress Engineer Glasgow          NaN   \n",
       "2                   Modelling and simulation analyst          NaN   \n",
       "3  Engineering Systems Analyst / Mathematical Mod...          NaN   \n",
       "4         Pioneer, Miser Engineering Systems Analyst          NaN   \n",
       "\n",
       "  ContractTime                       Company  SalaryNormalized  \\\n",
       "0    permanent  Gregory Martin International             25000   \n",
       "1    permanent  Gregory Martin International             30000   \n",
       "2    permanent  Gregory Martin International             30000   \n",
       "3    permanent  Gregory Martin International             27500   \n",
       "4    permanent  Gregory Martin International             25000   \n",
       "\n",
       "   Loc_Abbots Langley  Loc_Aberdare  Loc_Aberdeen  Loc_Aberdeenshire  \\\n",
       "0                   0             0             0                  0   \n",
       "1                   0             0             0                  0   \n",
       "2                   0             0             0                  0   \n",
       "3                   0             0             0                  0   \n",
       "4                   0             0             0                  0   \n",
       "\n",
       "   Loc_Abertillery        ...          Source_technojobs.co.uk  \\\n",
       "0                0        ...                                0   \n",
       "1                0        ...                                0   \n",
       "2                0        ...                                0   \n",
       "3                0        ...                                0   \n",
       "4                0        ...                                0   \n",
       "\n",
       "   Source_thecareerengineer.com  Source_thegraduate.co.uk  \\\n",
       "0                             0                         0   \n",
       "1                             0                         0   \n",
       "2                             0                         0   \n",
       "3                             0                         0   \n",
       "4                             0                         0   \n",
       "\n",
       "   Source_theitjobboard.co.uk  Source_theladders.co.uk  Source_totaljobs.com  \\\n",
       "0                           0                        0                     0   \n",
       "1                           0                        0                     0   \n",
       "2                           0                        0                     0   \n",
       "3                           0                        0                     0   \n",
       "4                           0                        0                     0   \n",
       "\n",
       "   Source_uksport.gov.uk  Source_wileyjobnetwork.com  Source_workthing.com  \\\n",
       "0                      0                           0                     0   \n",
       "1                      0                           0                     0   \n",
       "2                      0                           0                     0   \n",
       "3                      0                           0                     0   \n",
       "4                      0                           0                     0   \n",
       "\n",
       "   Source_zartis.com  \n",
       "0                  0  \n",
       "1                  0  \n",
       "2                  0  \n",
       "3                  0  \n",
       "4                  0  \n",
       "\n",
       "[5 rows x 1006 columns]"
      ]
     },
     "execution_count": 17,
     "metadata": {},
     "output_type": "execute_result"
    }
   ],
   "source": [
    "salaryd=pd.get_dummies(salaryd, columns=[\"LocationNormalized\", \"Category\",\"SourceName\"], prefix=[\"Loc\", \"Cat\",\"Source\"])\n",
    "salaryd.head()"
   ]
  },
  {
   "cell_type": "markdown",
   "metadata": {},
   "source": [
    "There are some missing data for Contract Type and Time and for the position Title. I will fill in these missing values with the moust common in each column."
   ]
  },
  {
   "cell_type": "code",
   "execution_count": 18,
   "metadata": {},
   "outputs": [],
   "source": [
    "salaryd = salaryd.fillna(salaryd['ContractType'].value_counts().index[0])\n",
    "salaryd = salaryd.fillna(salaryd['Title'].value_counts().index[0])\n",
    "salaryd = salaryd.fillna(salaryd['ContractTime'].value_counts().index[0])"
   ]
  },
  {
   "cell_type": "markdown",
   "metadata": {},
   "source": [
    "With the missing data filled in I will now one hot encode these columns.  Leaving me with the salary normalized number and the rest of the data frame all encoded as 1s and 0s."
   ]
  },
  {
   "cell_type": "code",
   "execution_count": 19,
   "metadata": {},
   "outputs": [
    {
     "data": {
      "text/html": [
       "<div>\n",
       "<style scoped>\n",
       "    .dataframe tbody tr th:only-of-type {\n",
       "        vertical-align: middle;\n",
       "    }\n",
       "\n",
       "    .dataframe tbody tr th {\n",
       "        vertical-align: top;\n",
       "    }\n",
       "\n",
       "    .dataframe thead th {\n",
       "        text-align: right;\n",
       "    }\n",
       "</style>\n",
       "<table border=\"1\" class=\"dataframe\">\n",
       "  <thead>\n",
       "    <tr style=\"text-align: right;\">\n",
       "      <th></th>\n",
       "      <th>SalaryNormalized</th>\n",
       "      <th>Loc_Abbots Langley</th>\n",
       "      <th>Loc_Aberdare</th>\n",
       "      <th>Loc_Aberdeen</th>\n",
       "      <th>Loc_Aberdeenshire</th>\n",
       "      <th>Loc_Abertillery</th>\n",
       "      <th>Loc_Abingdon</th>\n",
       "      <th>Loc_Aboyne</th>\n",
       "      <th>Loc_Accrington</th>\n",
       "      <th>Loc_Adlington</th>\n",
       "      <th>...</th>\n",
       "      <th>Company_i3 Resourcing</th>\n",
       "      <th>Company_i4 Jobs</th>\n",
       "      <th>Company_i4 Recruitment</th>\n",
       "      <th>Company_i4 Recruitment Account</th>\n",
       "      <th>Company_itk Recruitment</th>\n",
       "      <th>Company_m2r Ltd</th>\n",
       "      <th>Company_mgi recruitment</th>\n",
       "      <th>Company_ninesharp</th>\n",
       "      <th>Company_stickyfaceproductions ltd</th>\n",
       "      <th>Company_vacancy2market</th>\n",
       "    </tr>\n",
       "  </thead>\n",
       "  <tbody>\n",
       "    <tr>\n",
       "      <th>0</th>\n",
       "      <td>25000</td>\n",
       "      <td>0</td>\n",
       "      <td>0</td>\n",
       "      <td>0</td>\n",
       "      <td>0</td>\n",
       "      <td>0</td>\n",
       "      <td>0</td>\n",
       "      <td>0</td>\n",
       "      <td>0</td>\n",
       "      <td>0</td>\n",
       "      <td>...</td>\n",
       "      <td>0</td>\n",
       "      <td>0</td>\n",
       "      <td>0</td>\n",
       "      <td>0</td>\n",
       "      <td>0</td>\n",
       "      <td>0</td>\n",
       "      <td>0</td>\n",
       "      <td>0</td>\n",
       "      <td>0</td>\n",
       "      <td>0</td>\n",
       "    </tr>\n",
       "    <tr>\n",
       "      <th>1</th>\n",
       "      <td>30000</td>\n",
       "      <td>0</td>\n",
       "      <td>0</td>\n",
       "      <td>0</td>\n",
       "      <td>0</td>\n",
       "      <td>0</td>\n",
       "      <td>0</td>\n",
       "      <td>0</td>\n",
       "      <td>0</td>\n",
       "      <td>0</td>\n",
       "      <td>...</td>\n",
       "      <td>0</td>\n",
       "      <td>0</td>\n",
       "      <td>0</td>\n",
       "      <td>0</td>\n",
       "      <td>0</td>\n",
       "      <td>0</td>\n",
       "      <td>0</td>\n",
       "      <td>0</td>\n",
       "      <td>0</td>\n",
       "      <td>0</td>\n",
       "    </tr>\n",
       "    <tr>\n",
       "      <th>2</th>\n",
       "      <td>30000</td>\n",
       "      <td>0</td>\n",
       "      <td>0</td>\n",
       "      <td>0</td>\n",
       "      <td>0</td>\n",
       "      <td>0</td>\n",
       "      <td>0</td>\n",
       "      <td>0</td>\n",
       "      <td>0</td>\n",
       "      <td>0</td>\n",
       "      <td>...</td>\n",
       "      <td>0</td>\n",
       "      <td>0</td>\n",
       "      <td>0</td>\n",
       "      <td>0</td>\n",
       "      <td>0</td>\n",
       "      <td>0</td>\n",
       "      <td>0</td>\n",
       "      <td>0</td>\n",
       "      <td>0</td>\n",
       "      <td>0</td>\n",
       "    </tr>\n",
       "    <tr>\n",
       "      <th>3</th>\n",
       "      <td>27500</td>\n",
       "      <td>0</td>\n",
       "      <td>0</td>\n",
       "      <td>0</td>\n",
       "      <td>0</td>\n",
       "      <td>0</td>\n",
       "      <td>0</td>\n",
       "      <td>0</td>\n",
       "      <td>0</td>\n",
       "      <td>0</td>\n",
       "      <td>...</td>\n",
       "      <td>0</td>\n",
       "      <td>0</td>\n",
       "      <td>0</td>\n",
       "      <td>0</td>\n",
       "      <td>0</td>\n",
       "      <td>0</td>\n",
       "      <td>0</td>\n",
       "      <td>0</td>\n",
       "      <td>0</td>\n",
       "      <td>0</td>\n",
       "    </tr>\n",
       "    <tr>\n",
       "      <th>4</th>\n",
       "      <td>25000</td>\n",
       "      <td>0</td>\n",
       "      <td>0</td>\n",
       "      <td>0</td>\n",
       "      <td>0</td>\n",
       "      <td>0</td>\n",
       "      <td>0</td>\n",
       "      <td>0</td>\n",
       "      <td>0</td>\n",
       "      <td>0</td>\n",
       "      <td>...</td>\n",
       "      <td>0</td>\n",
       "      <td>0</td>\n",
       "      <td>0</td>\n",
       "      <td>0</td>\n",
       "      <td>0</td>\n",
       "      <td>0</td>\n",
       "      <td>0</td>\n",
       "      <td>0</td>\n",
       "      <td>0</td>\n",
       "      <td>0</td>\n",
       "    </tr>\n",
       "  </tbody>\n",
       "</table>\n",
       "<p>5 rows × 10479 columns</p>\n",
       "</div>"
      ],
      "text/plain": [
       "   SalaryNormalized  Loc_Abbots Langley  Loc_Aberdare  Loc_Aberdeen  \\\n",
       "0             25000                   0             0             0   \n",
       "1             30000                   0             0             0   \n",
       "2             30000                   0             0             0   \n",
       "3             27500                   0             0             0   \n",
       "4             25000                   0             0             0   \n",
       "\n",
       "   Loc_Aberdeenshire  Loc_Abertillery  Loc_Abingdon  Loc_Aboyne  \\\n",
       "0                  0                0             0           0   \n",
       "1                  0                0             0           0   \n",
       "2                  0                0             0           0   \n",
       "3                  0                0             0           0   \n",
       "4                  0                0             0           0   \n",
       "\n",
       "   Loc_Accrington  Loc_Adlington           ...            \\\n",
       "0               0              0           ...             \n",
       "1               0              0           ...             \n",
       "2               0              0           ...             \n",
       "3               0              0           ...             \n",
       "4               0              0           ...             \n",
       "\n",
       "   Company_i3 Resourcing  Company_i4 Jobs  Company_i4 Recruitment  \\\n",
       "0                      0                0                       0   \n",
       "1                      0                0                       0   \n",
       "2                      0                0                       0   \n",
       "3                      0                0                       0   \n",
       "4                      0                0                       0   \n",
       "\n",
       "   Company_i4 Recruitment Account  Company_itk Recruitment  Company_m2r Ltd  \\\n",
       "0                               0                        0                0   \n",
       "1                               0                        0                0   \n",
       "2                               0                        0                0   \n",
       "3                               0                        0                0   \n",
       "4                               0                        0                0   \n",
       "\n",
       "   Company_mgi recruitment  Company_ninesharp  \\\n",
       "0                        0                  0   \n",
       "1                        0                  0   \n",
       "2                        0                  0   \n",
       "3                        0                  0   \n",
       "4                        0                  0   \n",
       "\n",
       "   Company_stickyfaceproductions ltd  Company_vacancy2market  \n",
       "0                                  0                       0  \n",
       "1                                  0                       0  \n",
       "2                                  0                       0  \n",
       "3                                  0                       0  \n",
       "4                                  0                       0  \n",
       "\n",
       "[5 rows x 10479 columns]"
      ]
     },
     "execution_count": 19,
     "metadata": {},
     "output_type": "execute_result"
    }
   ],
   "source": [
    "salaryd=pd.get_dummies(salaryd, columns=[\"ContractType\", \"ContractTime\",\"Title\",\"Company\"], prefix=[\"ConType\", \"ConTime\",\"Title\",\"Company\"])\n",
    "salaryd.head()"
   ]
  },
  {
   "cell_type": "markdown",
   "metadata": {},
   "source": [
    "I will now combine the two dataframes into one.  The full description vectorized to words, and the categorical columns as dummy coded."
   ]
  },
  {
   "cell_type": "code",
   "execution_count": 20,
   "metadata": {},
   "outputs": [],
   "source": [
    "salarydesc=pd.concat([salaryd,fulldesc], axis=1)"
   ]
  },
  {
   "cell_type": "code",
   "execution_count": 21,
   "metadata": {},
   "outputs": [
    {
     "name": "stderr",
     "output_type": "stream",
     "text": [
      "C:\\Users\\heid4253\\AppData\\Local\\Continuum\\anaconda2\\lib\\site-packages\\pandas\\core\\indexes\\base.py:2022: UnicodeWarning: Unicode equal comparison failed to convert both arguments to Unicode - interpreting them as being unequal\n",
      "  return key in self._engine\n"
     ]
    },
    {
     "data": {
      "text/html": [
       "<div>\n",
       "<style scoped>\n",
       "    .dataframe tbody tr th:only-of-type {\n",
       "        vertical-align: middle;\n",
       "    }\n",
       "\n",
       "    .dataframe tbody tr th {\n",
       "        vertical-align: top;\n",
       "    }\n",
       "\n",
       "    .dataframe thead th {\n",
       "        text-align: right;\n",
       "    }\n",
       "</style>\n",
       "<table border=\"1\" class=\"dataframe\">\n",
       "  <thead>\n",
       "    <tr style=\"text-align: right;\">\n",
       "      <th></th>\n",
       "      <th>SalaryNormalized</th>\n",
       "      <th>Loc_Abbots Langley</th>\n",
       "      <th>Loc_Aberdare</th>\n",
       "      <th>Loc_Aberdeen</th>\n",
       "      <th>Loc_Aberdeenshire</th>\n",
       "      <th>Loc_Abertillery</th>\n",
       "      <th>Loc_Abingdon</th>\n",
       "      <th>Loc_Aboyne</th>\n",
       "      <th>Loc_Accrington</th>\n",
       "      <th>Loc_Adlington</th>\n",
       "      <th>...</th>\n",
       "      <th>youtube</th>\n",
       "      <th>youview</th>\n",
       "      <th>yr</th>\n",
       "      <th>yrs</th>\n",
       "      <th>zahid</th>\n",
       "      <th>zealand</th>\n",
       "      <th>zend</th>\n",
       "      <th>zero</th>\n",
       "      <th>zone</th>\n",
       "      <th>zuken</th>\n",
       "    </tr>\n",
       "  </thead>\n",
       "  <tbody>\n",
       "    <tr>\n",
       "      <th>0</th>\n",
       "      <td>25000</td>\n",
       "      <td>0</td>\n",
       "      <td>0</td>\n",
       "      <td>0</td>\n",
       "      <td>0</td>\n",
       "      <td>0</td>\n",
       "      <td>0</td>\n",
       "      <td>0</td>\n",
       "      <td>0</td>\n",
       "      <td>0</td>\n",
       "      <td>...</td>\n",
       "      <td>0.0</td>\n",
       "      <td>0.0</td>\n",
       "      <td>0.0</td>\n",
       "      <td>0.0</td>\n",
       "      <td>0.0</td>\n",
       "      <td>0.0</td>\n",
       "      <td>0.0</td>\n",
       "      <td>0.0</td>\n",
       "      <td>0.0</td>\n",
       "      <td>0.0</td>\n",
       "    </tr>\n",
       "    <tr>\n",
       "      <th>1</th>\n",
       "      <td>30000</td>\n",
       "      <td>0</td>\n",
       "      <td>0</td>\n",
       "      <td>0</td>\n",
       "      <td>0</td>\n",
       "      <td>0</td>\n",
       "      <td>0</td>\n",
       "      <td>0</td>\n",
       "      <td>0</td>\n",
       "      <td>0</td>\n",
       "      <td>...</td>\n",
       "      <td>0.0</td>\n",
       "      <td>0.0</td>\n",
       "      <td>0.0</td>\n",
       "      <td>0.0</td>\n",
       "      <td>0.0</td>\n",
       "      <td>0.0</td>\n",
       "      <td>0.0</td>\n",
       "      <td>0.0</td>\n",
       "      <td>0.0</td>\n",
       "      <td>0.0</td>\n",
       "    </tr>\n",
       "    <tr>\n",
       "      <th>2</th>\n",
       "      <td>30000</td>\n",
       "      <td>0</td>\n",
       "      <td>0</td>\n",
       "      <td>0</td>\n",
       "      <td>0</td>\n",
       "      <td>0</td>\n",
       "      <td>0</td>\n",
       "      <td>0</td>\n",
       "      <td>0</td>\n",
       "      <td>0</td>\n",
       "      <td>...</td>\n",
       "      <td>0.0</td>\n",
       "      <td>0.0</td>\n",
       "      <td>0.0</td>\n",
       "      <td>0.0</td>\n",
       "      <td>0.0</td>\n",
       "      <td>0.0</td>\n",
       "      <td>0.0</td>\n",
       "      <td>0.0</td>\n",
       "      <td>0.0</td>\n",
       "      <td>0.0</td>\n",
       "    </tr>\n",
       "    <tr>\n",
       "      <th>3</th>\n",
       "      <td>27500</td>\n",
       "      <td>0</td>\n",
       "      <td>0</td>\n",
       "      <td>0</td>\n",
       "      <td>0</td>\n",
       "      <td>0</td>\n",
       "      <td>0</td>\n",
       "      <td>0</td>\n",
       "      <td>0</td>\n",
       "      <td>0</td>\n",
       "      <td>...</td>\n",
       "      <td>0.0</td>\n",
       "      <td>0.0</td>\n",
       "      <td>0.0</td>\n",
       "      <td>0.0</td>\n",
       "      <td>0.0</td>\n",
       "      <td>0.0</td>\n",
       "      <td>0.0</td>\n",
       "      <td>0.0</td>\n",
       "      <td>0.0</td>\n",
       "      <td>0.0</td>\n",
       "    </tr>\n",
       "    <tr>\n",
       "      <th>4</th>\n",
       "      <td>25000</td>\n",
       "      <td>0</td>\n",
       "      <td>0</td>\n",
       "      <td>0</td>\n",
       "      <td>0</td>\n",
       "      <td>0</td>\n",
       "      <td>0</td>\n",
       "      <td>0</td>\n",
       "      <td>0</td>\n",
       "      <td>0</td>\n",
       "      <td>...</td>\n",
       "      <td>0.0</td>\n",
       "      <td>0.0</td>\n",
       "      <td>0.0</td>\n",
       "      <td>0.0</td>\n",
       "      <td>0.0</td>\n",
       "      <td>0.0</td>\n",
       "      <td>0.0</td>\n",
       "      <td>0.0</td>\n",
       "      <td>0.0</td>\n",
       "      <td>0.0</td>\n",
       "    </tr>\n",
       "  </tbody>\n",
       "</table>\n",
       "<p>5 rows × 20479 columns</p>\n",
       "</div>"
      ],
      "text/plain": [
       "   SalaryNormalized  Loc_Abbots Langley  Loc_Aberdare  Loc_Aberdeen  \\\n",
       "0             25000                   0             0             0   \n",
       "1             30000                   0             0             0   \n",
       "2             30000                   0             0             0   \n",
       "3             27500                   0             0             0   \n",
       "4             25000                   0             0             0   \n",
       "\n",
       "   Loc_Aberdeenshire  Loc_Abertillery  Loc_Abingdon  Loc_Aboyne  \\\n",
       "0                  0                0             0           0   \n",
       "1                  0                0             0           0   \n",
       "2                  0                0             0           0   \n",
       "3                  0                0             0           0   \n",
       "4                  0                0             0           0   \n",
       "\n",
       "   Loc_Accrington  Loc_Adlington  ...    youtube  youview   yr  yrs  zahid  \\\n",
       "0               0              0  ...        0.0      0.0  0.0  0.0    0.0   \n",
       "1               0              0  ...        0.0      0.0  0.0  0.0    0.0   \n",
       "2               0              0  ...        0.0      0.0  0.0  0.0    0.0   \n",
       "3               0              0  ...        0.0      0.0  0.0  0.0    0.0   \n",
       "4               0              0  ...        0.0      0.0  0.0  0.0    0.0   \n",
       "\n",
       "   zealand  zend  zero  zone  zuken  \n",
       "0      0.0   0.0   0.0   0.0    0.0  \n",
       "1      0.0   0.0   0.0   0.0    0.0  \n",
       "2      0.0   0.0   0.0   0.0    0.0  \n",
       "3      0.0   0.0   0.0   0.0    0.0  \n",
       "4      0.0   0.0   0.0   0.0    0.0  \n",
       "\n",
       "[5 rows x 20479 columns]"
      ]
     },
     "execution_count": 21,
     "metadata": {},
     "output_type": "execute_result"
    }
   ],
   "source": [
    "salarydesc.head()"
   ]
  },
  {
   "cell_type": "markdown",
   "metadata": {},
   "source": [
    "Now I will begin trying out some regression models to determine if salary can be accurately predicted from the job descriptions\n",
    "First, I will split the data into variables and target (salary normalized) and then into training and testing sets."
   ]
  },
  {
   "cell_type": "code",
   "execution_count": 22,
   "metadata": {},
   "outputs": [
    {
     "name": "stderr",
     "output_type": "stream",
     "text": [
      "C:\\Users\\heid4253\\AppData\\Local\\Continuum\\anaconda2\\lib\\site-packages\\pandas\\core\\indexes\\base.py:3244: UnicodeWarning: Unicode equal comparison failed to convert both arguments to Unicode - interpreting them as being unequal\n",
      "  indexer = self._engine.get_indexer(target._ndarray_values)\n"
     ]
    }
   ],
   "source": [
    "X=salarydesc.drop('SalaryNormalized',axis=1)\n",
    "y=salarydesc.SalaryNormalized"
   ]
  },
  {
   "cell_type": "code",
   "execution_count": 23,
   "metadata": {},
   "outputs": [
    {
     "name": "stdout",
     "output_type": "stream",
     "text": [
      "(7500, 20478)\n",
      "(2500, 20478)\n"
     ]
    }
   ],
   "source": [
    "from sklearn.model_selection import train_test_split\n",
    "X_train, X_test, y_train, y_test = train_test_split(X, y, random_state=1)\n",
    "print X_train.shape\n",
    "print X_test.shape"
   ]
  },
  {
   "cell_type": "markdown",
   "metadata": {},
   "source": [
    "First is linear regression with no tuning.  This model overfit the training data and provided no insight via the testing data."
   ]
  },
  {
   "cell_type": "code",
   "execution_count": 24,
   "metadata": {},
   "outputs": [
    {
     "name": "stdout",
     "output_type": "stream",
     "text": [
      "lr.coef_: [-5.39964298e+14 -2.41220142e+14 -1.00470023e+13 ... -1.15801424e+13\n",
      "  6.48487885e+13 -8.63352814e+12]\n",
      "lr.intercept_: -2.05685337454e+13\n",
      "Training set score: 1.00\n",
      "Test set score: -1983460342272774373376.00\n",
      "Number of features used: 19824\n"
     ]
    }
   ],
   "source": [
    "from sklearn.linear_model import LinearRegression\n",
    "lr = LinearRegression().fit(X_train, y_train)\n",
    "print(\"lr.coef_: {}\".format(lr.coef_))\n",
    "print(\"lr.intercept_: {}\".format(lr.intercept_))\n",
    "print(\"Training set score: {:.2f}\".format(lr.score(X_train, y_train)))\n",
    "print(\"Test set score: {:.2f}\".format(lr.score(X_test, y_test)))\n",
    "print(\"Number of features used: {}\".format(np.sum(lr.coef_ != 0)))"
   ]
  },
  {
   "cell_type": "markdown",
   "metadata": {},
   "source": [
    "Next regression is using Ridge.  This did best at salary predcition, but still not very good when testing data was modeled."
   ]
  },
  {
   "cell_type": "code",
   "execution_count": 25,
   "metadata": {},
   "outputs": [
    {
     "name": "stdout",
     "output_type": "stream",
     "text": [
      "ridge.coef_: [ 5594.12676515 -1126.85711414  6294.07046717 ...   150.76853212\n",
      " -2336.63577106    51.47769033]\n",
      "ridge.intercept_: 32991.7229408\n",
      "Training set score: 0.95\n",
      "Test set score: 0.64\n",
      "Number of features used: 18255\n"
     ]
    }
   ],
   "source": [
    "from sklearn.linear_model import Ridge, RidgeCV\n",
    "\n",
    "ridge = Ridge().fit(X_train, y_train)\n",
    "print(\"ridge.coef_: {}\".format(ridge.coef_))\n",
    "print(\"ridge.intercept_: {}\".format(ridge.intercept_))\n",
    "print(\"Training set score: {:.2f}\".format(ridge.score(X_train, y_train)))\n",
    "print(\"Test set score: {:.2f}\".format(ridge.score(X_test, y_test)))\n",
    "print(\"Number of features used: {}\".format(np.sum(ridge.coef_ != 0)))"
   ]
  },
  {
   "cell_type": "markdown",
   "metadata": {},
   "source": [
    "Tuning of the ridge model by varying the alpha level was done from 0.0001, 0.001, 0.01, 0.1, 1 and 10.\n",
    "The default alpha of 1 provided the best fit."
   ]
  },
  {
   "cell_type": "code",
   "execution_count": 38,
   "metadata": {},
   "outputs": [
    {
     "name": "stdout",
     "output_type": "stream",
     "text": [
      "Training set score: 1.00\n",
      "Test set score: 0.58\n",
      "Number of features used: 18255\n"
     ]
    }
   ],
   "source": [
    "ridgecv=Ridge(alpha=0.0001).fit(X_train,y_train)\n",
    "print(\"Training set score: {:.2f}\".format(ridgecv.score(X_train, y_train)))\n",
    "print(\"Test set score: {:.2f}\".format(ridgecv.score(X_test, y_test)))\n",
    "print(\"Number of features used: {}\".format(np.sum(ridgecv.coef_ != 0)))"
   ]
  },
  {
   "cell_type": "code",
   "execution_count": 34,
   "metadata": {},
   "outputs": [
    {
     "name": "stdout",
     "output_type": "stream",
     "text": [
      "Training set score: 1.00\n",
      "Test set score: 0.59\n",
      "Number of features used: 18255\n"
     ]
    }
   ],
   "source": [
    "ridgecv=Ridge(alpha=0.001).fit(X_train,y_train)\n",
    "print(\"Training set score: {:.2f}\".format(ridgecv.score(X_train, y_train)))\n",
    "print(\"Test set score: {:.2f}\".format(ridgecv.score(X_test, y_test)))\n",
    "print(\"Number of features used: {}\".format(np.sum(ridgecv.coef_ != 0)))"
   ]
  },
  {
   "cell_type": "code",
   "execution_count": 35,
   "metadata": {},
   "outputs": [
    {
     "name": "stdout",
     "output_type": "stream",
     "text": [
      "Training set score: 1.00\n",
      "Test set score: 0.61\n",
      "Number of features used: 18255\n"
     ]
    }
   ],
   "source": [
    "ridgecv=Ridge(alpha=0.01).fit(X_train,y_train)\n",
    "print(\"Training set score: {:.2f}\".format(ridgecv.score(X_train, y_train)))\n",
    "print(\"Test set score: {:.2f}\".format(ridgecv.score(X_test, y_test)))\n",
    "print(\"Number of features used: {}\".format(np.sum(ridgecv.coef_ != 0)))"
   ]
  },
  {
   "cell_type": "code",
   "execution_count": 36,
   "metadata": {},
   "outputs": [
    {
     "name": "stdout",
     "output_type": "stream",
     "text": [
      "Training set score: 1.00\n",
      "Test set score: 0.63\n",
      "Number of features used: 18255\n"
     ]
    }
   ],
   "source": [
    "ridgecv=Ridge(alpha=0.1).fit(X_train,y_train)\n",
    "print(\"Training set score: {:.2f}\".format(ridgecv.score(X_train, y_train)))\n",
    "print(\"Test set score: {:.2f}\".format(ridgecv.score(X_test, y_test)))\n",
    "print(\"Number of features used: {}\".format(np.sum(ridgecv.coef_ != 0)))"
   ]
  },
  {
   "cell_type": "code",
   "execution_count": 37,
   "metadata": {},
   "outputs": [
    {
     "name": "stdout",
     "output_type": "stream",
     "text": [
      "Training set score: 0.95\n",
      "Test set score: 0.64\n",
      "Number of features used: 18255\n"
     ]
    }
   ],
   "source": [
    "ridgecv=Ridge(alpha=1).fit(X_train,y_train)\n",
    "print(\"Training set score: {:.2f}\".format(ridgecv.score(X_train, y_train)))\n",
    "print(\"Test set score: {:.2f}\".format(ridgecv.score(X_test, y_test)))\n",
    "print(\"Number of features used: {}\".format(np.sum(ridgecv.coef_ != 0)))"
   ]
  },
  {
   "cell_type": "code",
   "execution_count": 39,
   "metadata": {},
   "outputs": [
    {
     "name": "stdout",
     "output_type": "stream",
     "text": [
      "Training set score: 0.72\n",
      "Test set score: 0.57\n",
      "Number of features used: 18255\n"
     ]
    }
   ],
   "source": [
    "ridgecv=Ridge(alpha=10).fit(X_train,y_train)\n",
    "print(\"Training set score: {:.2f}\".format(ridgecv.score(X_train, y_train)))\n",
    "print(\"Test set score: {:.2f}\".format(ridgecv.score(X_test, y_test)))\n",
    "print(\"Number of features used: {}\".format(np.sum(ridgecv.coef_ != 0)))"
   ]
  },
  {
   "cell_type": "markdown",
   "metadata": {},
   "source": [
    "A six fold cross validation on training/testing split showed similar testing data scores with a 0.63 average score."
   ]
  },
  {
   "cell_type": "code",
   "execution_count": 40,
   "metadata": {},
   "outputs": [
    {
     "data": {
      "text/plain": [
       "array([0.62413986, 0.65739662, 0.63172868, 0.62038477, 0.59753287,\n",
       "       0.63151214])"
      ]
     },
     "execution_count": 40,
     "metadata": {},
     "output_type": "execute_result"
    }
   ],
   "source": [
    "from sklearn.model_selection import cross_val_score, cross_val_predict\n",
    "from sklearn import metrics\n",
    "scores = cross_val_score(ridge, X_train, y_train, cv=6)\n",
    "scores"
   ]
  },
  {
   "cell_type": "markdown",
   "metadata": {},
   "source": [
    "Lasso regression was run and performed similar to the Ridge.  Lasso only used 2863 features"
   ]
  },
  {
   "cell_type": "code",
   "execution_count": 26,
   "metadata": {},
   "outputs": [
    {
     "name": "stdout",
     "output_type": "stream",
     "text": [
      "lasso.coef_: [6968.008963     -0.         3447.36294704 ...   -0.           -0.\n",
      "    0.        ]\n",
      "lasso.intercept_: 26120.9142104\n",
      "Training set score: 0.92\n",
      "Test set score: 0.62\n",
      "Number of features used: 2863\n"
     ]
    }
   ],
   "source": [
    "from sklearn.linear_model import Lasso\n",
    "\n",
    "lasso = Lasso().fit(X_train, y_train)\n",
    "print(\"lasso.coef_: {}\".format(lasso.coef_))\n",
    "print(\"lasso.intercept_: {}\".format(lasso.intercept_))\n",
    "print(\"Training set score: {:.2f}\".format(lasso.score(X_train, y_train)))\n",
    "print(\"Test set score: {:.2f}\".format(lasso.score(X_test, y_test)))\n",
    "print(\"Number of features used: {}\".format(np.sum(lasso.coef_ != 0)))"
   ]
  },
  {
   "cell_type": "markdown",
   "metadata": {},
   "source": [
    "Tuning of the Lasso model was done with the same varying levels of alpha as the ridge tuning. The default alpha of 1 provided the best scores."
   ]
  },
  {
   "cell_type": "code",
   "execution_count": 40,
   "metadata": {},
   "outputs": [
    {
     "name": "stdout",
     "output_type": "stream",
     "text": [
      "Training set score: 1.00\n",
      "Test set score: 0.26\n",
      "Number of features used: 14833\n"
     ]
    }
   ],
   "source": [
    "lassocv=Lasso(alpha=0.0001).fit(X_train,y_train)\n",
    "print(\"Training set score: {:.2f}\".format(lassocv.score(X_train, y_train)))\n",
    "print(\"Test set score: {:.2f}\".format(lassocv.score(X_test, y_test)))\n",
    "print(\"Number of features used: {}\".format(np.sum(lassocv.coef_ != 0)))"
   ]
  },
  {
   "cell_type": "code",
   "execution_count": 41,
   "metadata": {},
   "outputs": [
    {
     "name": "stderr",
     "output_type": "stream",
     "text": [
      "C:\\Users\\heid4253\\AppData\\Local\\Continuum\\anaconda2\\lib\\site-packages\\sklearn\\linear_model\\coordinate_descent.py:491: ConvergenceWarning: Objective did not converge. You might want to increase the number of iterations. Fitting data with very small alpha may cause precision problems.\n",
      "  ConvergenceWarning)\n"
     ]
    },
    {
     "name": "stdout",
     "output_type": "stream",
     "text": [
      "Training set score: 1.00\n",
      "Test set score: 0.43\n",
      "Number of features used: 10438\n"
     ]
    }
   ],
   "source": [
    "lassocv=Lasso(alpha=0.001).fit(X_train,y_train)\n",
    "print(\"Training set score: {:.2f}\".format(lassocv.score(X_train, y_train)))\n",
    "print(\"Test set score: {:.2f}\".format(lassocv.score(X_test, y_test)))\n",
    "print(\"Number of features used: {}\".format(np.sum(lassocv.coef_ != 0)))"
   ]
  },
  {
   "cell_type": "code",
   "execution_count": 42,
   "metadata": {},
   "outputs": [
    {
     "name": "stdout",
     "output_type": "stream",
     "text": [
      "Training set score: 0.58\n",
      "Test set score: 0.52\n",
      "Number of features used: 255\n"
     ]
    }
   ],
   "source": [
    "lassocv=Lasso(alpha=10).fit(X_train,y_train)\n",
    "print(\"Training set score: {:.2f}\".format(lassocv.score(X_train, y_train)))\n",
    "print(\"Test set score: {:.2f}\".format(lassocv.score(X_test, y_test)))\n",
    "print(\"Number of features used: {}\".format(np.sum(lassocv.coef_ != 0)))"
   ]
  },
  {
   "cell_type": "code",
   "execution_count": 43,
   "metadata": {},
   "outputs": [
    {
     "name": "stdout",
     "output_type": "stream",
     "text": [
      "Training set score: 0.92\n",
      "Test set score: 0.62\n",
      "Number of features used: 2863\n"
     ]
    }
   ],
   "source": [
    "lassocv=Lasso(alpha=1).fit(X_train,y_train)\n",
    "print(\"Training set score: {:.2f}\".format(lassocv.score(X_train, y_train)))\n",
    "print(\"Test set score: {:.2f}\".format(lassocv.score(X_test, y_test)))\n",
    "print(\"Number of features used: {}\".format(np.sum(lassocv.coef_ != 0)))"
   ]
  },
  {
   "cell_type": "markdown",
   "metadata": {},
   "source": [
    "Again a six fold cross validation was run on lasso model and found an average scores of 0.59"
   ]
  },
  {
   "cell_type": "code",
   "execution_count": 16,
   "metadata": {},
   "outputs": [
    {
     "data": {
      "text/plain": [
       "0.5902544863333178"
      ]
     },
     "execution_count": 16,
     "metadata": {},
     "output_type": "execute_result"
    }
   ],
   "source": [
    "from sklearn.model_selection import cross_val_score, cross_val_predict\n",
    "from sklearn import metrics\n",
    "\n",
    "scores = cross_val_score(lasso, X_train, y_train, cv=6)\n",
    "scores.mean()"
   ]
  },
  {
   "cell_type": "markdown",
   "metadata": {},
   "source": [
    "Nearest neighbor and decision tree regressor were also run, but did not seem to fit data well.  The Tree regressor overfit my training data."
   ]
  },
  {
   "cell_type": "code",
   "execution_count": 12,
   "metadata": {},
   "outputs": [
    {
     "name": "stdout",
     "output_type": "stream",
     "text": [
      "Train set R^2: 0.75\n",
      "Test set R^2: 0.46\n"
     ]
    }
   ],
   "source": [
    "from sklearn.neighbors import KNeighborsRegressor\n",
    "reg = KNeighborsRegressor(n_neighbors=3)\n",
    "reg.fit(X_train, y_train)\n",
    "print(\"Train set R^2: {:.2f}\".format(reg.score(X_train, y_train)))\n",
    "print(\"Test set R^2: {:.2f}\".format(reg.score(X_test, y_test)))"
   ]
  },
  {
   "cell_type": "code",
   "execution_count": 13,
   "metadata": {},
   "outputs": [
    {
     "name": "stdout",
     "output_type": "stream",
     "text": [
      "Decision Tree regressor score on training set: 1.00\n",
      "Decision Tree regressor on test set: 0.26\n"
     ]
    }
   ],
   "source": [
    "from sklearn.tree import DecisionTreeRegressor\n",
    "\n",
    "dtr = DecisionTreeRegressor().fit(X_train, y_train)\n",
    "\n",
    "print('Decision Tree regressor score on training set: {:.2f}'\n",
    "     .format(dtr.score(X_train, y_train)))\n",
    "print('Decision Tree regressor on test set: {:.2f}'\n",
    "     .format(dtr.score(X_test, y_test)))"
   ]
  },
  {
   "cell_type": "markdown",
   "metadata": {},
   "source": [
    "Overall the Ridge and Lasso regression models provided the msot accurate scores for predicting salary from job postings. It was interesting that these two models provided very similar training and testing scores but used a very different number of features from the dataset.  Ridge used 18,255 features where lasso only used 2,863 features."
   ]
  }
 ],
 "metadata": {
  "kernelspec": {
   "display_name": "Python 2",
   "language": "python",
   "name": "python2"
  },
  "language_info": {
   "codemirror_mode": {
    "name": "ipython",
    "version": 2
   },
   "file_extension": ".py",
   "mimetype": "text/x-python",
   "name": "python",
   "nbconvert_exporter": "python",
   "pygments_lexer": "ipython2",
   "version": "2.7.15"
  }
 },
 "nbformat": 4,
 "nbformat_minor": 2
}
